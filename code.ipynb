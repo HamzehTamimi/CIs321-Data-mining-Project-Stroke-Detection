{
  "metadata": {
    "colab": {
      "provenance": []
    },
    "kernelspec": {
      "display_name": "Python 3",
      "name": "python3"
    },
    "language_info": {
      "name": "python"
    }
  },
  "nbformat_minor": 0,
  "nbformat": 4,
  "cells": [
    {
      "cell_type": "code",
      "source": [
        "# Hamza ALTamimi 153431 Data Mining project code"
      ],
      "metadata": {
        "execution": {
          "iopub.status.busy": "2023-05-21T17:32:55.944744Z",
          "iopub.execute_input": "2023-05-21T17:32:55.945989Z",
          "iopub.status.idle": "2023-05-21T17:32:55.950485Z",
          "shell.execute_reply.started": "2023-05-21T17:32:55.945946Z",
          "shell.execute_reply": "2023-05-21T17:32:55.949308Z"
        },
        "trusted": true,
        "id": "P1BD0zjdKxVO"
      },
      "execution_count": null,
      "outputs": []
    },
    {
      "cell_type": "code",
      "source": [
        "# import required python libraries\n",
        "import numpy as np\n",
        "import pandas as pd\n",
        "from sklearn.tree import DecisionTreeClassifier\n",
        "from sklearn.preprocessing import LabelEncoder\n",
        "from sklearn.naive_bayes import GaussianNB\n",
        "from sklearn.impute import SimpleImputer\n",
        "# from google.colab import files"
      ],
      "metadata": {
        "id": "vjg1QGE3pdhW",
        "execution": {
          "iopub.status.busy": "2023-05-21T17:32:55.952824Z",
          "iopub.execute_input": "2023-05-21T17:32:55.953799Z",
          "iopub.status.idle": "2023-05-21T17:32:55.966789Z",
          "shell.execute_reply.started": "2023-05-21T17:32:55.953764Z",
          "shell.execute_reply": "2023-05-21T17:32:55.965890Z"
        },
        "trusted": true
      },
      "execution_count": null,
      "outputs": []
    },
    {
      "cell_type": "code",
      "source": [
        "# uploaded = files.upload()"
      ],
      "metadata": {
        "id": "x_OUFvA3LG23"
      },
      "execution_count": 4,
      "outputs": []
    },
    {
      "cell_type": "code",
      "source": [
        "# read csv files and save them as traindata & testdata dataframes (the csv file paths should be changes based on where it is saved) \n",
        "traindata = pd.read_csv('train.csv')\n",
        "testdata = pd.read_csv('test.csv')"
      ],
      "metadata": {
        "id": "OaUh6HUOqyxo",
        "execution": {
          "iopub.status.busy": "2023-05-21T17:32:55.981605Z",
          "iopub.execute_input": "2023-05-21T17:32:55.982362Z",
          "iopub.status.idle": "2023-05-21T17:32:56.014851Z",
          "shell.execute_reply.started": "2023-05-21T17:32:55.982317Z",
          "shell.execute_reply": "2023-05-21T17:32:56.013617Z"
        },
        "trusted": true
      },
      "execution_count": null,
      "outputs": []
    },
    {
      "cell_type": "code",
      "source": [
        "# split traindata to x_train & y_train\n",
        "x_train = traindata.iloc[:, 1:11]\n",
        "y_train = traindata.iloc[:, [11]]"
      ],
      "metadata": {
        "id": "Ad8yf9YFsN3f",
        "execution": {
          "iopub.status.busy": "2023-05-21T17:32:56.017194Z",
          "iopub.execute_input": "2023-05-21T17:32:56.017642Z",
          "iopub.status.idle": "2023-05-21T17:32:56.024528Z",
          "shell.execute_reply.started": "2023-05-21T17:32:56.017600Z",
          "shell.execute_reply": "2023-05-21T17:32:56.023648Z"
        },
        "trusted": true
      },
      "execution_count": null,
      "outputs": []
    },
    {
      "cell_type": "code",
      "source": [
        "# create x_test from testdata\n",
        "x_test = testdata"
      ],
      "metadata": {
        "id": "ZWeIrBmUWlR2",
        "execution": {
          "iopub.status.busy": "2023-05-21T17:32:56.025788Z",
          "iopub.execute_input": "2023-05-21T17:32:56.026159Z",
          "iopub.status.idle": "2023-05-21T17:32:56.038143Z",
          "shell.execute_reply.started": "2023-05-21T17:32:56.026127Z",
          "shell.execute_reply": "2023-05-21T17:32:56.036949Z"
        },
        "trusted": true
      },
      "execution_count": null,
      "outputs": []
    },
    {
      "cell_type": "code",
      "source": [
        "# transform non-numerical values to numerical values\n",
        "le = LabelEncoder()\n",
        "x_train['gender'] = le.fit_transform(x_train['gender'])\n",
        "x_test['gender'] = le.fit_transform(x_test['gender'])\n",
        "x_train['ever_married'] = le.fit_transform(x_train['ever_married'])\n",
        "x_test['ever_married'] = le.fit_transform(x_test['ever_married'])\n",
        "x_train['work_type']  = le.fit_transform(x_train['work_type'])\n",
        "x_test['work_type'] = le.fit_transform(x_test['work_type'])\n",
        "x_train['Residence_type'] = le.fit_transform(x_train['Residence_type'])\n",
        "x_test['Residence_type'] = le.fit_transform(x_test['Residence_type'])\n",
        "x_train['smoking_status'] = le.fit_transform(x_train['smoking_status'])\n",
        "x_test['smoking_status'] = le.fit_transform(x_test['smoking_status'])"
      ],
      "metadata": {
        "id": "u8i0hh8pjJjD",
        "execution": {
          "iopub.status.busy": "2023-05-21T17:32:56.039434Z",
          "iopub.execute_input": "2023-05-21T17:32:56.040258Z",
          "iopub.status.idle": "2023-05-21T17:32:56.065714Z",
          "shell.execute_reply.started": "2023-05-21T17:32:56.040223Z",
          "shell.execute_reply": "2023-05-21T17:32:56.064829Z"
        },
        "trusted": true
      },
      "execution_count": null,
      "outputs": []
    },
    {
      "cell_type": "code",
      "source": [
        "# replace null values with 0\n",
        "x_train.fillna(0,inplace=True)\n",
        "x_test.fillna(0,inplace=True)"
      ],
      "metadata": {
        "id": "eJpBcgqHxopE",
        "execution": {
          "iopub.status.busy": "2023-05-21T17:32:56.066864Z",
          "iopub.execute_input": "2023-05-21T17:32:56.067811Z",
          "iopub.status.idle": "2023-05-21T17:32:56.074872Z",
          "shell.execute_reply.started": "2023-05-21T17:32:56.067776Z",
          "shell.execute_reply": "2023-05-21T17:32:56.073629Z"
        },
        "trusted": true
      },
      "execution_count": null,
      "outputs": []
    },
    {
      "cell_type": "code",
      "source": [
        "# create id table and drop id column from x_test\n",
        "x_test_id = x_test['id']\n",
        "x_test = x_test.drop(['id'],axis=1)"
      ],
      "metadata": {
        "id": "d64qJBYHxo2H",
        "execution": {
          "iopub.status.busy": "2023-05-21T17:32:56.078776Z",
          "iopub.execute_input": "2023-05-21T17:32:56.079180Z",
          "iopub.status.idle": "2023-05-21T17:32:56.087767Z",
          "shell.execute_reply.started": "2023-05-21T17:32:56.079146Z",
          "shell.execute_reply": "2023-05-21T17:32:56.086494Z"
        },
        "trusted": true
      },
      "execution_count": null,
      "outputs": []
    },
    {
      "cell_type": "code",
      "source": [
        "# create gaussian naive bayes classifer object\n",
        "c = GaussianNB()"
      ],
      "metadata": {
        "id": "--hQ5QEPLHDN",
        "execution": {
          "iopub.status.busy": "2023-05-21T17:32:56.090119Z",
          "iopub.execute_input": "2023-05-21T17:32:56.090584Z",
          "iopub.status.idle": "2023-05-21T17:32:56.102654Z",
          "shell.execute_reply.started": "2023-05-21T17:32:56.090538Z",
          "shell.execute_reply": "2023-05-21T17:32:56.101433Z"
        },
        "trusted": true
      },
      "execution_count": null,
      "outputs": []
    },
    {
      "cell_type": "code",
      "source": [
        "# train gaussian naive bayes classifer\n",
        "c.fit(x_train,y_train)"
      ],
      "metadata": {
        "id": "rhaw6hzxLOGp",
        "execution": {
          "iopub.status.busy": "2023-05-21T17:32:56.104051Z",
          "iopub.execute_input": "2023-05-21T17:32:56.104485Z",
          "iopub.status.idle": "2023-05-21T17:32:56.127795Z",
          "shell.execute_reply.started": "2023-05-21T17:32:56.104443Z",
          "shell.execute_reply": "2023-05-21T17:32:56.126815Z"
        },
        "trusted": true
      },
      "execution_count": null,
      "outputs": []
    },
    {
      "cell_type": "code",
      "source": [
        "# predict the response for test dataset\n",
        "y_test = c.predict(x_test)"
      ],
      "metadata": {
        "id": "HB4lBERpKSmW",
        "execution": {
          "iopub.status.busy": "2023-05-21T17:32:56.130564Z",
          "iopub.execute_input": "2023-05-21T17:32:56.131855Z",
          "iopub.status.idle": "2023-05-21T17:32:56.138807Z",
          "shell.execute_reply.started": "2023-05-21T17:32:56.131815Z",
          "shell.execute_reply": "2023-05-21T17:32:56.137916Z"
        },
        "trusted": true
      },
      "execution_count": null,
      "outputs": []
    },
    {
      "cell_type": "code",
      "source": [
        "# convert y_test to dataframe\n",
        "y_test = pd.DataFrame(y_test)"
      ],
      "metadata": {
        "id": "hFhwZRVcZqjC",
        "execution": {
          "iopub.status.busy": "2023-05-21T17:32:56.140042Z",
          "iopub.execute_input": "2023-05-21T17:32:56.140875Z",
          "iopub.status.idle": "2023-05-21T17:32:56.152895Z",
          "shell.execute_reply.started": "2023-05-21T17:32:56.140839Z",
          "shell.execute_reply": "2023-05-21T17:32:56.151792Z"
        },
        "trusted": true
      },
      "execution_count": null,
      "outputs": []
    },
    {
      "cell_type": "code",
      "source": [
        "# rename column \"0\" to \"stroke\"\n",
        "y_test.rename(columns={0:'stroke'}, inplace = True)"
      ],
      "metadata": {
        "id": "QWgbFX-WbHKS",
        "execution": {
          "iopub.status.busy": "2023-05-21T17:32:56.154185Z",
          "iopub.execute_input": "2023-05-21T17:32:56.154591Z",
          "iopub.status.idle": "2023-05-21T17:32:56.168185Z",
          "shell.execute_reply.started": "2023-05-21T17:32:56.154548Z",
          "shell.execute_reply": "2023-05-21T17:32:56.166603Z"
        },
        "trusted": true
      },
      "execution_count": null,
      "outputs": []
    },
    {
      "cell_type": "code",
      "source": [
        "# create result dataframe from x_test id values & y_predit data\n",
        "result = pd.concat([x_test_id,y_test],axis=1,join='inner')"
      ],
      "metadata": {
        "id": "Rt5VvvUWu1Mj",
        "execution": {
          "iopub.status.busy": "2023-05-21T17:32:56.169766Z",
          "iopub.execute_input": "2023-05-21T17:32:56.170818Z",
          "iopub.status.idle": "2023-05-21T17:32:56.183348Z",
          "shell.execute_reply.started": "2023-05-21T17:32:56.170769Z",
          "shell.execute_reply": "2023-05-21T17:32:56.182165Z"
        },
        "trusted": true
      },
      "execution_count": null,
      "outputs": []
    },
    {
      "cell_type": "code",
      "source": [
        "# save results in csv format\n",
        "result.to_csv('result.csv',index=False)"
      ],
      "metadata": {
        "id": "6dME4DHvwQwF",
        "execution": {
          "iopub.status.busy": "2023-05-21T17:32:56.184816Z",
          "iopub.execute_input": "2023-05-21T17:32:56.185243Z",
          "iopub.status.idle": "2023-05-21T17:32:56.200123Z",
          "shell.execute_reply.started": "2023-05-21T17:32:56.185205Z",
          "shell.execute_reply": "2023-05-21T17:32:56.198857Z"
        },
        "trusted": true
      },
      "execution_count": null,
      "outputs": []
    }
  ]
}